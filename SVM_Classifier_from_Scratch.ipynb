{
  "nbformat": 4,
  "nbformat_minor": 0,
  "metadata": {
    "colab": {
      "provenance": []
    },
    "kernelspec": {
      "name": "python3",
      "display_name": "Python 3"
    },
    "language_info": {
      "name": "python"
    }
  },
  "cells": [
    {
      "cell_type": "markdown",
      "source": [
        "**SVM Classifier**\n",
        "\n",
        "Equation of the Hyperplane\n",
        "\n",
        "**y=wx-b**"
      ],
      "metadata": {
        "id": "V58iXfPs8VJJ"
      }
    },
    {
      "cell_type": "markdown",
      "source": [
        "**Gradient Descent**\n",
        "\n",
        "\n",
        "\n",
        "Gradient descent is an optimization algorithm used for minimizing the loss function in various machine learning algorithms. It is used for updating rhe parameters of the learning mdel.\n",
        "\n",
        "w=w-a*dw\n",
        "\n",
        "b=b-a*dw\n",
        "\n",
        "**Learning Rate**\n",
        "\n",
        "Learning Rate is a tuning parameter in an optimization algorithm that the step size at each iteration while moving toward aminimum of a loss function."
      ],
      "metadata": {
        "id": "j8sj80988wKF"
      }
    },
    {
      "cell_type": "markdown",
      "source": [
        "importing the depencencies"
      ],
      "metadata": {
        "id": "VfpNy4-y8HkA"
      }
    },
    {
      "cell_type": "code",
      "source": [
        "import numpy as np"
      ],
      "metadata": {
        "id": "NaysW4J2Gtx5"
      },
      "execution_count": null,
      "outputs": []
    },
    {
      "cell_type": "markdown",
      "source": [
        "Support Vector Machine Classifier"
      ],
      "metadata": {
        "id": "pfMAbmpCG6Tx"
      }
    },
    {
      "cell_type": "code",
      "source": [
        "class svm_classifier():\n",
        "\n",
        "  # initiating the hyperparameters\n",
        "  def __init__(self, learning_rate, no_of_iterations, lambda_parameter):\n",
        "    self.learning_rate=learning_rate\n",
        "    self.no_of_iterations=no_of_iterations\n",
        "    self.lambda_parameter=lambda_parameter\n",
        "\n",
        "  # fitting the dataset to classifier\n",
        "  def fit(self,X,Y):\n",
        "\n",
        "    # m--> no. of rows\n",
        "    # n--> no. of features/columns\n",
        "    # no of data points, no of input features\n",
        "    self.m, self.n = X.shape\n",
        "\n",
        "    # initiating the weight and bias value\n",
        "    self.w=np.zeros(self.n)\n",
        "    self.b=0\n",
        "    self.X=X\n",
        "    self.Y=Y\n",
        "\n",
        "    # implementing gradient descent\n",
        "    for i in range(self.no_of_iterations):\n",
        "      self.update_weights()\n",
        "\n",
        "  # updating the weight and bias value\n",
        "  def update_weights(self):\n",
        "    # label encoding\n",
        "    y_label=np.where(self.Y<=0,-1,1)\n",
        "    # gradients\n",
        "    for index, x_i in enumerate(self.X):\n",
        "      condition=y_label[index]*(np.dot(x_i,self.w)-self.b)>=1\n",
        "\n",
        "      if(condition==True):\n",
        "        dw=2*self.lambda_parameter*self.w\n",
        "        db=0\n",
        "\n",
        "      else:\n",
        "        dw=2*self.lambda_parameter*self.w-np.dot(x_i,y_label[index])\n",
        "        db=y_label[index]\n",
        "\n",
        "      self.w=self.w-self.learning_rate*dw\n",
        "      self.b=self.b-self.learning_rate*db\n",
        "\n",
        "\n",
        "  # predict the label for a given input value\n",
        "  def predict(self,X):\n",
        "    output=np.dot(X,self.w)-self.b\n",
        "    predicted_labels=np.sign(output)\n",
        "    y_hat=np.where(predicted_labels<=-1,0,1)\n",
        "    return y_hat\n",
        "\n"
      ],
      "metadata": {
        "id": "fQDpj4RfG_BZ"
      },
      "execution_count": null,
      "outputs": []
    },
    {
      "cell_type": "code",
      "source": [
        "model=svm_classifier()"
      ],
      "metadata": {
        "id": "TdkvLqLqIGJC"
      },
      "execution_count": null,
      "outputs": []
    }
  ]
}